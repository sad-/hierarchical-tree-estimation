{
 "cells": [
  {
   "cell_type": "markdown",
   "metadata": {},
   "source": [
    "# Adesoji Adeshina #\n",
    "# BIOE 190 Programming Project#\n",
    "## Comparing topology of phylogenetic trees generated using different techniques ##"
   ]
  },
  {
   "cell_type": "code",
   "execution_count": 7,
   "metadata": {
    "collapsed": false
   },
   "outputs": [],
   "source": [
    "### Preamble: imports and stuff like that ###\n",
    "\n",
    "import scipy\n",
    "import scipy.io\n",
    "import numpy as np\n",
    "import matplotlib.pyplot as plt\n",
    "import matplotlib.cm as cm\n",
    "%matplotlib inline\n",
    "from Bio import AlignIO\n",
    "from Bio.SubsMat.MatrixInfo import blosum62 as blosum\n",
    "from ete3 import Tree\n",
    "from __future__ import division\n",
    "\n",
    "aas = [\"A\", \"R\", \"N\", \"D\", \"C\", \"Q\", \"E\", \"G\", \"H\", \"I\", \"L\", \"K\", \"M\", \"F\", \"P\", \"S\", \"T\", \"W\", \"Y\", \"V\"]\n",
    "blosum.update(((b,a),val) for (a,b),val in blosum.items())\n",
    "\n",
    "BLOSUM62 = np.zeros((20, 20))\n",
    "for i in xrange(20):\n",
    "    for j in xrange(20):\n",
    "        BLOSUM62[i, j] = blosum[(aas[i], aas[j])]\n",
    "gap_penalties = np.array([-4]*20)"
   ]
  },
  {
   "cell_type": "markdown",
   "metadata": {},
   "source": [
    "## Part 1 - Multiple Sequence Alignment ## "
   ]
  },
  {
   "cell_type": "code",
   "execution_count": 133,
   "metadata": {
    "collapsed": false
   },
   "outputs": [],
   "source": [
    "#MSA for TLR\n",
    "tlr_handle = open(\"tlrs.fasta.txt\", \"rU\")\n",
    "tlrs = AlignIO.read(tlr_handle, \"fasta\")"
   ]
  },
  {
   "cell_type": "code",
   "execution_count": 134,
   "metadata": {
    "collapsed": false
   },
   "outputs": [],
   "source": [
    "#MSA for KCNA\n",
    "kcn_handle = open(\"kcns.fasta.txt\", \"rU\")\n",
    "kcns = AlignIO.read(kcn_handle, \"fasta\")"
   ]
  },
  {
   "cell_type": "code",
   "execution_count": 137,
   "metadata": {
    "collapsed": false
   },
   "outputs": [
    {
     "name": "stdout",
     "output_type": "stream",
     "text": [
      "{'Q9EPQ1': 'TLR1_MOUSE', 'Q9EPW9': 'TLR6_MOUSE', 'P08510': 'KCNAS_DROME', 'P10499': 'KCNA1_RAT', 'Q689D1': 'TLR2_CANLF', 'P50638': 'KCNA5_RABIT', 'P19024': 'KCNA5_RAT', 'Q28527': 'KCNA4_MUSPF', 'P22739': 'KCNA2_XENLA', 'Q17ST2': 'KCNA7_MOUSE', 'Q9MYW3': 'TLR4_HORSE', 'Q9BXR5': 'TLR10_HUMAN', 'P15385': 'KCNA4_RAT', 'Q8SPE9': 'TLR4_PONPY', 'Q9R1F8': 'TLR2_CRIGR', 'O60603': 'TLR2_HUMAN', 'Q9QUK6': 'TLR4_MOUSE', 'P22460': 'KCNA5_HUMAN', 'P17659': 'KCNA6_RAT', 'P17658': 'KCNA6_HUMAN', 'P16390': 'KCNA3_MOUSE', 'Q6T752': 'TLR2_HORSE', 'B3Y613': 'TLR2_PANTR', 'B3Y615': 'TLR2_GORGO', 'B3Y614': 'TLR2_PANPA', 'Q09470': 'KCNA1_HUMAN', 'B3Y618': 'TLR2_MACMU', 'B5T267': 'TLR2_BOSIN', 'Q8I4B0': 'KCNSK_CAEEL', 'P22001': 'KCNA3_HUMAN', 'Q9I830': 'KCNA2_ONCMY', 'Q704V6': 'TLR6_BOVIN', 'Q68Y56': 'TLR4_PIG', 'Q96RP8': 'KCNA7_HUMAN', 'Q2V897': 'TLR2_BOSTR', 'Q7T199': 'KCA10_CHICK', 'Q2V898': 'TLR4_BOSTR', 'Q8SPE8': 'TLR4_GORGO', 'Q61423': 'KCNA4_MOUSE', 'Q9QUN7': 'TLR2_MOUSE', 'Q61923': 'KCNA6_MOUSE', 'Q9DD78': 'TLR21_CHICK', 'Q95M53': 'TLR2_MACFA', 'Q61762': 'KCNA5_MOUSE', 'Q6R5N8': 'TLR13_MOUSE', 'Q99MB1': 'TLR3_MOUSE', 'P16388': 'KCNA1_MOUSE', 'P16389': 'KCNA2_HUMAN', 'Q9TTN0': 'TLR4_PANPA', 'Q95LA9': 'TLR2_BOVIN', 'Q2PZH4': 'TLR2_BUBBU', 'Q0GC71': 'TLR2_CAPHI', 'P79197': 'KCNA5_MUSPF', 'P22459': 'KCNA4_HUMAN', 'Q16322': 'KCA10_HUMAN', 'Q9GL65': 'TLR4_BOVIN', 'Q9Y2C9': 'TLR6_HUMAN', 'O00206': 'TLR4_HUMAN', 'Q6GV17': 'TLR10_BOVIN', 'Q05037': 'KCNA4_BOVIN', 'Q28293': 'KCNA2_CANLF', 'Q0ZUL9': 'TLR6_DASNO', 'Q15399': 'TLR1_HUMAN', 'Q9NYK1': 'TLR7_HUMAN', 'Q9NR97': 'TLR8_HUMAN', 'Q9TSP2': 'TLR4_PAPAN', 'P58727': 'TLR4_FELCA', 'Q9I829': 'KCNA1_ONCMY', 'P63141': 'KCNA2_MOUSE', 'P63142': 'KCNA2_RAT', 'P15384': 'KCNA3_RAT', 'Q9WV82': 'TLR4_CRIGR', 'B2LT61': 'TLR2_BISBI', 'B2LT62': 'TLR2_CAPIB', 'Q9DGB6': 'TLR22_CHICK', 'B2LT64': 'TLR2_GIRCA', 'B2LT65': 'TLR2_SHEEP', 'Q9QX05': 'TLR4_RAT', 'Q09081': 'KCNA2_RABIT'}\n"
     ]
    }
   ],
   "source": [
    "#storing human readable gene names \n",
    "acc_id = {}\n",
    "tlr_acc = [tlr.name for tlr in tlrs]\n",
    "kcn_acc = [kcn.name for kcn in kcns]\n",
    "for line in open(\"tlrs_with_id.fasta.txt\", \"rU\"):\n",
    "    if \">\" in line:\n",
    "        arr = line.split(\"|\")\n",
    "        acc_id[arr[1]] = arr[2].split(\" \")[0]\n",
    "for line in open(\"kcns_with_id.fasta.txt\", \"rU\"):\n",
    "    if \">\" in line:\n",
    "        arr = line.split(\"|\")\n",
    "        acc_id[arr[1]] = arr[2].split(\" \")[0]"
   ]
  },
  {
   "cell_type": "markdown",
   "metadata": {},
   "source": [
    "## Part 2 - Profile Construction ##"
   ]
  },
  {
   "cell_type": "code",
   "execution_count": 10,
   "metadata": {
    "collapsed": false
   },
   "outputs": [],
   "source": [
    "def construct_profile(msa, **kwargs):\n",
    "    if \"profile_type\" in kwargs:\n",
    "        if kwargs[\"profile_type\"] == \"addone\":\n",
    "            n = 0.1\n",
    "            return [add_n_profile(msa[i, :], n) for i in xrange(len(msa))]\n",
    "        if kwargs[\"profile_type\"] == \"blosum\":\n",
    "            return [blosum62_profile(msa[i, :]) for i in xrange(len(msa))]\n",
    "        \n",
    "def add_n_profile(aligned_seq, n):\n",
    "    profile = np.ones((20, len(aligned_seq)))\n",
    "    for i, residue in enumerate(aligned_seq):\n",
    "        if residue in aas:\n",
    "            idx = aas.index(residue)\n",
    "            profile[idx, i] += n\n",
    "    return Profile(profile/21, \"addone\")\n",
    "\n",
    "def blosum62_profile(aligned_seq):\n",
    "    profile = np.zeros((20, len(aligned_seq)))\n",
    "    for i, residue in enumerate(aligned_seq):\n",
    "        if residue in aas:\n",
    "            idx = aas.index(residue)\n",
    "            profile[:,i] = BLOSUM62[idx,:]\n",
    "        else:\n",
    "            profile[:,i] = gap_penalties\n",
    "    return Profile(profile, \"blosum\")\n",
    "\n",
    "class Profile():\n",
    "    def __init__(self, data, kind):\n",
    "        self.data = data\n",
    "        self.kind = kind\n",
    "        \n",
    "    def __repr___(self):\n",
    "        return self.kind"
   ]
  },
  {
   "cell_type": "markdown",
   "metadata": {},
   "source": [
    "## Part 3 - Profile Scoring ##"
   ]
  },
  {
   "cell_type": "code",
   "execution_count": 89,
   "metadata": {
    "collapsed": true
   },
   "outputs": [],
   "source": [
    "#profile data structure is a numpy matrix with \n",
    "\n",
    "def score(profile1, profile2, **kwargs):\n",
    "    if \"scoring_fn\" in kwargs:\n",
    "        if kwargs[\"scoring_fn\"] == \"kullback_leibler\":\n",
    "            return kullback_leibler_score(profile1.data, profile2.data)\n",
    "        if kwargs[\"scoring_fn\"] == \"jensen_shannon\":\n",
    "            return jensen_shannon_score(profile1.data, profile2.data)\n",
    "        return sum(position_scores)\n",
    "    return\n",
    "\n",
    "#symmetrized version is D_kl = D(P||Q) + D(Q||P)\n",
    "def kullback_leibler_score(p, q):\n",
    "    dpq = np.sum(p*np.log(p/q), axis=0)\n",
    "    dqp = np.sum(q*np.log(q/p), axis=0)\n",
    "    return sum(dpq + dqp)\n",
    "\n",
    "#D_js = 1/2 (D(P||M) + D(Q||M))\n",
    "#M = 1/2 (P + Q)\n",
    "def jensen_shannon_score(p, q):\n",
    "    m = 0.5*(p + q)\n",
    "    dpm = np.sum(p*np.log(p/m), axis=0)\n",
    "    dqm = np.sum(q*np.log(q/m), axis=0)\n",
    "    return sum(0.5*(dpm + dqm))"
   ]
  },
  {
   "cell_type": "markdown",
   "metadata": {},
   "source": [
    "## Part 3 - Tree Construction##"
   ]
  },
  {
   "cell_type": "code",
   "execution_count": 187,
   "metadata": {
    "collapsed": false
   },
   "outputs": [],
   "source": [
    "def merge(profile1, profile2):\n",
    "    merged_profile = 0.5*(profile1.data + profile2.data)\n",
    "    return Profile(merged_profile, profile1.kind)\n",
    "\n",
    "def agglomeration(profiles, accs):\n",
    "    clusters = len(profiles)\n",
    "    new_profile_id = len(profiles)-1\n",
    "    profile_ids = range(len(profiles))\n",
    "    merged = []\n",
    "    merged_dict= {}\n",
    "    reverse_merge = {}\n",
    "    \n",
    "    while(clusters > 1):\n",
    "        closest1, closest2, idx = find_min_score(profiles, profile_ids)\n",
    "        merged.append(idx)\n",
    "        clusters -= 1\n",
    "        new_profile_id += 1\n",
    "        merged_dict[idx] = new_profile_id\n",
    "        reverse_merge[new_profile_id] = idx\n",
    "        profile_ids.remove(idx[0])\n",
    "        profile_ids.remove(idx[1])\n",
    "        profile_ids.append(new_profile_id)\n",
    "        profiles.append(merge(closest1, closest2))\n",
    "    print merged\n",
    "    return get_tree_input(merged, merged_dict, reverse_merge, accs)\n",
    "    #return merged\n",
    "\n",
    "def find_min_score(profiles, ids):\n",
    "    min_score = np.inf\n",
    "    indices = (-1, -1)\n",
    "    for i in xrange(len(ids)-1):\n",
    "        for j in xrange(i+1, len(ids)):\n",
    "            curr_score = score(profiles[ids[i]], profiles[ids[j]], scoring_fn=\"kullback_leibler\")\n",
    "            if curr_score < min_score:\n",
    "                min_score = curr_score\n",
    "                indices = (ids[i], ids[j])\n",
    "    return (profiles[indices[0]], profiles[indices[1]], indices)\n",
    "    \n",
    "\n",
    "#iterate through the list of tuples and generate the tree\n",
    "def get_tree_input(merged, merged_dict, reverse_merge, acc):\n",
    "    def get_pairing(label, merged):\n",
    "        for merger in merged:\n",
    "            if label in merger:\n",
    "                return merger\n",
    "        return (0, 0)\n",
    "    def edge(a, b):\n",
    "        return \"(\" + a + \",\" + b + \")\"\n",
    "    \n",
    "    def merge(a, b, thresh, acc):\n",
    "        if a < thresh:\n",
    "            if b < thresh:\n",
    "                return edge(acc_id[acc[a]], acc_id[acc[b]])\n",
    "            newa, newb = reverse_merge[b]\n",
    "            return edge(acc_id[acc[a]], merge(newa, newb, thresh, acc))\n",
    "        if b < thresh:\n",
    "            newa, newb = reverse_merge[a]\n",
    "            return edge(merge(newa, newb, thresh, acc), acc_id[acc[b]])\n",
    "        a1, b1 = reverse_merge[a]\n",
    "        a2, b2 = reverse_merge[b]\n",
    "        return edge(merge(a1, b1, thresh, acc), merge(a2, b2, thresh, acc))\n",
    "    \n",
    "    merger = merged[0]\n",
    "    left = acc_id[acc[merger[0]]]\n",
    "    right_val = merger[1]\n",
    "    while merger in merged_dict:\n",
    "        label = merged_dict[merger]\n",
    "        if right_val < len(acc):\n",
    "            right = acc_id[acc[right_val]]\n",
    "        else:\n",
    "            (a, b) = reverse_merge[right_val]\n",
    "            right = merge(a, b, len(acc), acc)\n",
    "\n",
    "        merger = get_pairing(label, merged)\n",
    "        if not merger:\n",
    "            break\n",
    "        left = edge(left, right)\n",
    "        right_val = merger[0] if label == merger[1] else merger[1]\n",
    "    out_str = left + \";\"\n",
    "    return out_str\n",
    "            \n",
    "\n"
   ]
  },
  {
   "cell_type": "code",
   "execution_count": 188,
   "metadata": {
    "collapsed": false,
    "scrolled": false
   },
   "outputs": [
    {
     "name": "stdout",
     "output_type": "stream",
     "text": [
      "[(16, 17), (18, 20), (46, 47), (37, 38), (13, 14), (36, 49), (23, 25), (22, 52), (12, 15), (24, 53), (19, 55), (21, 56), (39, 51), (31, 32), (48, 50), (54, 57), (11, 61), (42, 58), (26, 60), (9, 64), (62, 65), (40, 41), (8, 10), (27, 28), (66, 68), (6, 7), (35, 67), (44, 59), (63, 73), (33, 74), (34, 75), (72, 76), (2, 3), (4, 78), (5, 79), (0, 1), (80, 81), (69, 70), (71, 82), (83, 84), (77, 85), (43, 86), (29, 87), (30, 88), (45, 89)]\n",
      "[(3, 4), (1, 2), (5, 33), (10, 12), (6, 35), (15, 16), (7, 37), (27, 28), (0, 34), (13, 14), (38, 42), (20, 21), (17, 43), (25, 40), (11, 36), (30, 31), (8, 39), (19, 23), (18, 50), (44, 51), (9, 49), (41, 53), (47, 54), (26, 29), (22, 55), (46, 57), (48, 58), (56, 59), (52, 60), (45, 61), (24, 62), (32, 63)]\n"
     ]
    }
   ],
   "source": [
    "tlr_addone_profiles = construct_profile(tlrs, profile_type=\"addone\")\n",
    "tlr_blosum_profiles = construct_profile(tlrs, profile_type=\"blosum\")\n",
    "\n",
    "kcn_addone_profiles = construct_profile(kcns, profile_type=\"addone\")\n",
    "kcn_blosum_profiles = construct_profile(kcns, profile_type=\"blosum\")\n",
    "\n",
    "tlr_tree = agglomeration(tlr_addone_profiles, tlr_acc)\n",
    "kcn_tree = agglomeration(kcn_addone_profiles, kcn_acc)"
   ]
  },
  {
   "cell_type": "code",
   "execution_count": 189,
   "metadata": {
    "collapsed": false
   },
   "outputs": [],
   "source": [
    "t_tlr = Tree(tlr_tree)\n",
    "t_kcn = Tree(kcn_tree)"
   ]
  },
  {
   "cell_type": "code",
   "execution_count": 190,
   "metadata": {
    "collapsed": false
   },
   "outputs": [
    {
     "name": "stdout",
     "output_type": "stream",
     "text": [
      "\n",
      "                                       /-TLR2_HUMAN\n",
      "                                    /-|\n",
      "                                   |   \\-TLR2_GORGO\n",
      "                                 /-|\n",
      "                                |  |   /-TLR2_PANTR\n",
      "                                |   \\-|\n",
      "                              /-|      \\-TLR2_PANPA\n",
      "                             |  |\n",
      "                             |  |   /-TLR2_MACMU\n",
      "                           /-|   \\-|\n",
      "                          |  |      \\-TLR2_MACFA\n",
      "                        /-|  |\n",
      "                       |  |   \\-TLR2_CANLF\n",
      "                       |  |\n",
      "                     /-|   \\-TLR2_HORSE\n",
      "                    |  |\n",
      "                    |  |   /-TLR2_GIRCA\n",
      "                    |  |  |\n",
      "                    |   \\-|      /-TLR2_SHEEP\n",
      "                    |     |   /-|\n",
      "                    |     |  |   \\-TLR2_CAPIB\n",
      "                    |      \\-|\n",
      "                    |        |   /-TLR2_BOSTR\n",
      "                    |         \\-|\n",
      "                  /-|           |   /-TLR2_CAPHI\n",
      "                 |  |            \\-|\n",
      "                 |  |              |   /-TLR2_BUBBU\n",
      "                 |  |               \\-|\n",
      "                 |  |                 |   /-TLR2_BOVIN\n",
      "                 |  |                  \\-|\n",
      "                 |  |                    |   /-TLR2_BISBI\n",
      "               /-|  |                     \\-|\n",
      "              |  |  |                        \\-TLR2_BOSIN\n",
      "              |  |  |\n",
      "              |  |  |   /-TLR2_CRIGR\n",
      "              |  |   \\-|\n",
      "              |  |      \\-TLR2_MOUSE\n",
      "              |  |\n",
      "              |  |   /-TLR22_CHICK\n",
      "            /-|   \\-|\n",
      "           |  |      \\-TLR21_CHICK\n",
      "           |  |\n",
      "           |  |      /-TLR10_HUMAN\n",
      "           |  |   /-|\n",
      "           |  |  |   \\-TLR10_BOVIN\n",
      "           |  |  |\n",
      "           |  |  |      /-TLR6_MOUSE\n",
      "           |   \\-|   /-|\n",
      "           |     |  |  |   /-TLR6_DASNO\n",
      "           |     |  |   \\-|\n",
      "           |     |  |     |   /-TLR6_HUMAN\n",
      "         /-|      \\-|      \\-|\n",
      "        |  |        |         \\-TLR6_BOVIN\n",
      "        |  |        |\n",
      "        |  |        |   /-TLR1_HUMAN\n",
      "        |  |         \\-|\n",
      "        |  |            \\-TLR1_MOUSE\n",
      "        |  |\n",
      "        |  |      /-TLR4_CRIGR\n",
      "        |  |   /-|\n",
      "        |  |  |  |   /-TLR4_MOUSE\n",
      "        |  |  |   \\-|\n",
      "        |  |  |      \\-TLR4_RAT\n",
      "        |   \\-|\n",
      "        |     |   /-TLR4_FELCA\n",
      "        |     |  |\n",
      "        |     |  |   /-TLR4_HORSE\n",
      "      /-|      \\-|  |\n",
      "     |  |        |  |      /-TLR4_PAPAN\n",
      "     |  |        |  |   /-|\n",
      "     |  |         \\-|  |  |   /-TLR4_PONPY\n",
      "     |  |           |  |   \\-|\n",
      "     |  |           |  |     |   /-TLR4_GORGO\n",
      "     |  |           |  |      \\-|\n",
      "     |  |            \\-|        |   /-TLR4_PANPA\n",
      "     |  |              |         \\-|\n",
      "   /-|  |              |            \\-TLR4_HUMAN\n",
      "  |  |  |              |\n",
      "  |  |  |              |   /-TLR4_PIG\n",
      "  |  |  |               \\-|\n",
      "  |  |  |                 |   /-TLR4_BOVIN\n",
      "  |  |  |                  \\-|\n",
      "--|  |  |                     \\-TLR4_BOSTR\n",
      "  |  |  |\n",
      "  |  |   \\-TLR3_MOUSE\n",
      "  |  |\n",
      "  |   \\-TLR13_MOUSE\n",
      "  |\n",
      "   \\-TLR8_HUMAN\n"
     ]
    }
   ],
   "source": [
    "print t_tlr"
   ]
  },
  {
   "cell_type": "code",
   "execution_count": 186,
   "metadata": {
    "collapsed": false
   },
   "outputs": [
    {
     "name": "stdout",
     "output_type": "stream",
     "text": [
      "\n",
      "                                             /-KCNA2_RAT\n",
      "                                          /-|\n",
      "                                       /-|   \\-KCNA2_MOUSE\n",
      "                                      |  |\n",
      "                                    /-|   \\-KCNA2_HUMAN\n",
      "                                   |  |\n",
      "                                 /-|   \\-KCNA2_RABIT\n",
      "                                |  |\n",
      "                              /-|   \\-KCNA2_CANLF\n",
      "                             |  |\n",
      "                           /-|   \\-KCNA2_XENLA\n",
      "                          |  |\n",
      "                        /-|   \\-KCNA2_ONCMY\n",
      "                       |  |\n",
      "                       |  |   /-KCNA1_HUMAN\n",
      "                       |   \\-|\n",
      "                     /-|     |   /-KCNA1_MOUSE\n",
      "                    |  |      \\-|\n",
      "                    |  |         \\-KCNA1_RAT\n",
      "                    |  |\n",
      "                    |  |   /-KCNA3_HUMAN\n",
      "                  /-|   \\-|\n",
      "                 |  |     |   /-KCNA3_RAT\n",
      "                 |  |      \\-|\n",
      "                 |  |         \\-KCNA3_MOUSE\n",
      "               /-|  |\n",
      "              |  |   \\-KCNA1_ONCMY\n",
      "              |  |\n",
      "              |  |   /-KCNA6_HUMAN\n",
      "              |   \\-|\n",
      "            /-|     |   /-KCNA6_MOUSE\n",
      "           |  |      \\-|\n",
      "           |  |         \\-KCNA6_RAT\n",
      "           |  |\n",
      "         /-|  |   /-KCNA7_HUMAN\n",
      "        |  |   \\-|\n",
      "        |  |      \\-KCNA7_MOUSE\n",
      "        |  |\n",
      "        |  |   /-KCA10_CHICK\n",
      "      /-|   \\-|\n",
      "     |  |      \\-KCA10_HUMAN\n",
      "     |  |\n",
      "     |  |      /-KCNA5_MOUSE\n",
      "     |  |   /-|\n",
      "     |  |  |   \\-KCNA5_RAT\n",
      "     |   \\-|\n",
      "   /-|     |   /-KCNA5_RABIT\n",
      "  |  |      \\-|\n",
      "  |  |        |   /-KCNA5_MUSPF\n",
      "  |  |         \\-|\n",
      "  |  |            \\-KCNA5_HUMAN\n",
      "  |  |\n",
      "  |  |   /-KCNA4_BOVIN\n",
      "  |  |  |\n",
      "--|   \\-|      /-KCNA4_RAT\n",
      "  |     |   /-|\n",
      "  |     |  |   \\-KCNA4_MOUSE\n",
      "  |      \\-|\n",
      "  |        |   /-KCNA4_HUMAN\n",
      "  |         \\-|\n",
      "  |            \\-KCNA4_MUSPF\n",
      "  |\n",
      "   \\-KCNAS_DROME\n"
     ]
    }
   ],
   "source": [
    "print t_kcn"
   ]
  },
  {
   "cell_type": "code",
   "execution_count": null,
   "metadata": {
    "collapsed": false
   },
   "outputs": [],
   "source": [
    "t = Tree( \"((a,b),c);\" )"
   ]
  },
  {
   "cell_type": "code",
   "execution_count": 6,
   "metadata": {
    "collapsed": false
   },
   "outputs": [
    {
     "name": "stdout",
     "output_type": "stream",
     "text": [
      "\n",
      "      /-a\n",
      "   /-|\n",
      "--|   \\-b\n",
      "  |\n",
      "   \\-c\n"
     ]
    }
   ],
   "source": [
    "print t"
   ]
  },
  {
   "cell_type": "code",
   "execution_count": null,
   "metadata": {
    "collapsed": true
   },
   "outputs": [],
   "source": []
  }
 ],
 "metadata": {
  "kernelspec": {
   "display_name": "Python 2",
   "language": "python",
   "name": "python2"
  },
  "language_info": {
   "codemirror_mode": {
    "name": "ipython",
    "version": 2
   },
   "file_extension": ".py",
   "mimetype": "text/x-python",
   "name": "python",
   "nbconvert_exporter": "python",
   "pygments_lexer": "ipython2",
   "version": "2.7.12"
  }
 },
 "nbformat": 4,
 "nbformat_minor": 0
}
