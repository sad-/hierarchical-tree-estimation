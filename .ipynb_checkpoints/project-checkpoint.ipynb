{
 "cells": [
  {
   "cell_type": "markdown",
   "metadata": {},
   "source": [
    "# Adesoji Adeshina #\n",
    "# BIOE 190 Programming Project#\n",
    "## Comparing topology of phylogenetic trees generated using different techniques ##"
   ]
  },
  {
   "cell_type": "code",
   "execution_count": 15,
   "metadata": {
    "collapsed": false
   },
   "outputs": [],
   "source": [
    "### Preamble: imports and stuff like that ###\n",
    "\n",
    "import scipy\n",
    "import scipy.io\n",
    "import numpy as np\n",
    "import matplotlib.pyplot as plt\n",
    "import matplotlib.cm as cm\n",
    "%matplotlib inline\n",
    "from Bio import AlignIO\n",
    "from Bio.SubsMat.MatrixInfo import blosum62 as blosum\n",
    "from ete3 import Tree\n",
    "from __future__ import division\n",
    "\n",
    "aas = [\"A\", \"R\", \"N\", \"D\", \"C\", \"Q\", \"E\", \"G\", \"H\", \"I\", \"L\", \"K\", \"M\", \"F\", \"P\", \"S\", \"T\", \"W\", \"Y\", \"V\"]\n",
    "blosum.update(((b,a),val) for (a,b),val in blosum.items())\n",
    "\n",
    "BLOSUM62 = np.zeros((20, 20))\n",
    "for i in xrange(20):\n",
    "    for j in xrange(20):\n",
    "        BLOSUM62[i, j] = blosum[(aas[i], aas[j])]\n",
    "gap_penalties = np.array([-4]*20)"
   ]
  },
  {
   "cell_type": "markdown",
   "metadata": {},
   "source": [
    "## Part 1 - Multiple Sequence Alignment ## "
   ]
  },
  {
   "cell_type": "code",
   "execution_count": 16,
   "metadata": {
    "collapsed": false
   },
   "outputs": [],
   "source": [
    "#MSA for TLR\n",
    "tlr_handle = open(\"tlrs.fasta.txt\", \"rU\")\n",
    "tlrs = AlignIO.read(tlr_handle, \"fasta\")"
   ]
  },
  {
   "cell_type": "code",
   "execution_count": 17,
   "metadata": {
    "collapsed": false
   },
   "outputs": [],
   "source": [
    "#MSA for KCNA\n",
    "kcn_handle = open(\"kcns.fasta.txt\", \"rU\")\n",
    "kcns = AlignIO.read(kcn_handle, \"fasta\")"
   ]
  },
  {
   "cell_type": "code",
   "execution_count": 18,
   "metadata": {
    "collapsed": false
   },
   "outputs": [],
   "source": [
    "#storing human readable gene names \n",
    "acc_id = {}\n",
    "tlr_acc = [tlr.name for tlr in tlrs]\n",
    "kcn_acc = [kcn.name for kcn in kcns]\n",
    "for line in open(\"tlrs_with_id.fasta.txt\", \"rU\"):\n",
    "    if \">\" in line:\n",
    "        arr = line.split(\"|\")\n",
    "        acc_id[arr[1]] = arr[2].split(\" \")[0]\n",
    "for line in open(\"kcns_with_id.fasta.txt\", \"rU\"):\n",
    "    if \">\" in line:\n",
    "        arr = line.split(\"|\")\n",
    "        acc_id[arr[1]] = arr[2].split(\" \")[0]"
   ]
  },
  {
   "cell_type": "markdown",
   "metadata": {},
   "source": [
    "## Part 2 - Profile Construction ##"
   ]
  },
  {
   "cell_type": "code",
   "execution_count": 44,
   "metadata": {
    "collapsed": false
   },
   "outputs": [],
   "source": [
    "def construct_profile(msa, **kwargs):\n",
    "    if \"profile_type\" in kwargs:\n",
    "        if kwargs[\"profile_type\"] == \"addone\":\n",
    "            n = kwargs[\"n\"] if \"n\" in kwargs else 0.1\n",
    "            return [add_n_profile(msa[i, :], n) for i in xrange(len(msa))]\n",
    "        if kwargs[\"profile_type\"] == \"blosum\":\n",
    "            return [blosum62_profile(msa[i, :]) for i in xrange(len(msa))]\n",
    "        \n",
    "def add_n_profile(aligned_seq, n):\n",
    "    profile = np.ones((20, len(aligned_seq)))\n",
    "    for i, residue in enumerate(aligned_seq):\n",
    "        if residue in aas:\n",
    "            idx = aas.index(residue)\n",
    "            profile[idx, i] += n\n",
    "    return Profile(profile/21, \"addone\")\n",
    "\n",
    "def blosum62_profile(aligned_seq):\n",
    "    profile = np.zeros((20, len(aligned_seq)))\n",
    "    for i, residue in enumerate(aligned_seq):\n",
    "        if residue in aas:\n",
    "            idx = aas.index(residue)\n",
    "            profile[:,i] = BLOSUM62[idx,:]\n",
    "        else:\n",
    "            profile[:,i] = gap_penalties\n",
    "    return Profile(profile, \"blosum\")\n",
    "\n",
    "class Profile():\n",
    "    def __init__(self, data, kind):\n",
    "        self.data = data\n",
    "        self.kind = kind\n",
    "        \n",
    "    def __repr___(self):\n",
    "        return self.kind"
   ]
  },
  {
   "cell_type": "markdown",
   "metadata": {},
   "source": [
    "## Part 3 - Profile Scoring ##"
   ]
  },
  {
   "cell_type": "code",
   "execution_count": 45,
   "metadata": {
    "collapsed": true
   },
   "outputs": [],
   "source": [
    "#define all the methods used in profile - profile scoring\n",
    "\n",
    "def score(profile1, profile2, **kwargs):\n",
    "    if \"scoring_fn\" in kwargs:\n",
    "        if kwargs[\"scoring_fn\"] == \"kullback_leibler\":\n",
    "            return kullback_leibler_score(profile1.data, profile2.data)\n",
    "        if kwargs[\"scoring_fn\"] == \"jensen_shannon\":\n",
    "            return jensen_shannon_score(profile1.data, profile2.data)\n",
    "        return sum(position_scores)\n",
    "    return\n",
    "\n",
    "#symmetrized version is D_kl = D(P||Q) + D(Q||P)\n",
    "def kullback_leibler_score(p, q):\n",
    "    dpq = np.sum(p*np.log(p/q), axis=0)\n",
    "    dqp = np.sum(q*np.log(q/p), axis=0)\n",
    "    return sum(dpq + dqp)\n",
    "\n",
    "#D_js = 1/2 (D(P||M) + D(Q||M))\n",
    "#M = 1/2 (P + Q)\n",
    "def jensen_shannon_score(p, q):\n",
    "    m = 0.5*(p + q)\n",
    "    dpm = np.sum(p*np.log(p/m), axis=0)\n",
    "    dqm = np.sum(q*np.log(q/m), axis=0)\n",
    "    return sum(0.5*(dpm + dqm))"
   ]
  },
  {
   "cell_type": "markdown",
   "metadata": {},
   "source": [
    "## Part 3 - Tree Construction##"
   ]
  },
  {
   "cell_type": "code",
   "execution_count": 51,
   "metadata": {
    "collapsed": false
   },
   "outputs": [],
   "source": [
    "def merge(profile1, profile2):\n",
    "    merged_profile = 0.5*(profile1.data + profile2.data)\n",
    "    return Profile(merged_profile, profile1.kind)\n",
    "\n",
    "def linkage(i, j, profiles, scoring, children, **kwargs):\n",
    "    if kwargs[\"link\"] == \"centroid\":\n",
    "        return score(profiles[i], profiles[j], scoring_fn=scoring)\n",
    "    left = children[i]\n",
    "    right = children[j]\n",
    "    if kwargs[\"link\"] == \"average\":\n",
    "        return 1/(len(left)*len(right)) * sum([sum([score(profiles[x], profiles[y],  scoring_fn=scoring)\n",
    "                                                  for x in left]) for y in right])\n",
    "    if kwargs[\"link\"] == \"single\":\n",
    "        return min([min([score(profiles[x], profiles[y], scoring_fn=scoring) for x in left]) for y in right])\n",
    "    if kwargs[\"link\"] == \"complete\":\n",
    "        return max([max([score(profiles[x], profiles[y], scoring_fn=scoring) for x in left]) for y in right])\n",
    "        \n",
    "        \n",
    "\n",
    "def agglomeration(profiles, accs, scoring, linkage):\n",
    "    clusters = len(profiles)\n",
    "    new_profile_id = len(profiles)-1\n",
    "    profile_ids = range(len(profiles))\n",
    "    merged = []\n",
    "    merged_dict= {}\n",
    "    reverse_merge = {}\n",
    "    children = {}\n",
    "    score_dict = {}\n",
    "    for idx in xrange(len(profiles)):\n",
    "        children[idx] = [idx]\n",
    "    \n",
    "    while(clusters > 1):\n",
    "        min_score, closest1, closest2, idx = find_min_score(profiles, profile_ids, scoring, children, linkage)\n",
    "        merged.append(idx)\n",
    "        clusters -= 1\n",
    "        new_profile_id += 1\n",
    "        merged_dict[idx] = new_profile_id\n",
    "        reverse_merge[new_profile_id] = idx\n",
    "        score_dict[new_profile_id] = min_score\n",
    "        children[new_profile_id] = children[idx[0]] + children[idx[1]]\n",
    "        profile_ids.remove(idx[0])\n",
    "        profile_ids.remove(idx[1])\n",
    "        profile_ids.append(new_profile_id)\n",
    "        profiles.append(merge(closest1, closest2))\n",
    "    print merged\n",
    "    return get_tree_input(merged, merged_dict, reverse_merge, accs, score_dict)\n",
    "\n",
    "def find_min_score(profiles, ids, scoring, children, link):\n",
    "    min_score = np.inf\n",
    "    indices = (-1, -1)\n",
    "    for i in xrange(len(ids)-1):\n",
    "        for j in xrange(i+1, len(ids)):\n",
    "            curr_score = linkage(ids[i],ids[j], profiles, scoring, children, link=link)\n",
    "            if curr_score < min_score:\n",
    "                min_score = curr_score\n",
    "                indices = (ids[i], ids[j])\n",
    "    return (min_score, profiles[indices[0]], profiles[indices[1]], indices)\n",
    "    \n",
    "\n",
    "#iterate through the list of tuples and generate the tree\n",
    "def get_tree_input(merged, merged_dict, reverse_merge, acc, score_dict, **kwargs):\n",
    "    def get_pairing(label, merged):\n",
    "        for merger in merged:\n",
    "            if label in merger:\n",
    "                return merger\n",
    "        return (0, 0)\n",
    "    def edge(a, b, score):\n",
    "        return \"(\" + a + \",\" + b + \"):\" + str(round(score, 4))\n",
    "    \n",
    "    def merge(a, b, thresh, acc, label):\n",
    "        if a < thresh:\n",
    "            if b < thresh:\n",
    "                return edge(acc_id[acc[a]], acc_id[acc[b]], score_dict[label])\n",
    "            newa, newb = reverse_merge[b]\n",
    "            return edge(acc_id[acc[a]], merge(newa, newb, thresh, acc, b), score_dict[label])\n",
    "        if b < thresh:\n",
    "            newa, newb = reverse_merge[a]\n",
    "            return edge(merge(newa, newb, thresh, acc, a), acc_id[acc[b]], score_dict[label])\n",
    "        a1, b1 = reverse_merge[a]\n",
    "        a2, b2 = reverse_merge[b]\n",
    "        return edge(merge(a1, b1, thresh, acc, a), merge(a2, b2, thresh, acc, b), score_dict[label])\n",
    "        \n",
    "    merger = merged[0]\n",
    "    left = acc_id[acc[merger[0]]]\n",
    "    right_val = merger[1]\n",
    "    while merger in merged_dict:\n",
    "        label = merged_dict[merger]\n",
    "        if right_val < len(acc):\n",
    "            right = acc_id[acc[right_val]]\n",
    "        else:\n",
    "            (a, b) = reverse_merge[right_val]\n",
    "            right = merge(a, b, len(acc), acc, right_val)\n",
    "\n",
    "        merger = get_pairing(label, merged)\n",
    "        left = edge(left, right, score_dict[label])\n",
    "        right_val = merger[0] if label == merger[1] else merger[1]\n",
    "    out_str = left + \";\"\n",
    "    return out_str\n",
    "            \n",
    "\n"
   ]
  },
  {
   "cell_type": "code",
   "execution_count": 52,
   "metadata": {
    "collapsed": false,
    "scrolled": false
   },
   "outputs": [
    {
     "name": "stdout",
     "output_type": "stream",
     "text": [
      "[(16, 17), (18, 20), (37, 38), (46, 47), (13, 14), (36, 48), (23, 25), (22, 52), (12, 15), (19, 24), (21, 53), (55, 56), (39, 51), (31, 32), (49, 50), (54, 57), (11, 61), (42, 58), (40, 41), (26, 60), (8, 10), (27, 28), (9, 65), (6, 7), (33, 34), (44, 59), (2, 3), (4, 72), (62, 68), (35, 64), (63, 70), (71, 76), (0, 1), (5, 73), (66, 74), (75, 77), (78, 79), (67, 80), (69, 82), (83, 84), (30, 45), (81, 85), (43, 87), (29, 88), (86, 89)]\n",
      "[(3, 4), (1, 2), (5, 33), (10, 12), (6, 35), (15, 16), (7, 37), (27, 28), (0, 34), (13, 14), (38, 42), (20, 21), (17, 43), (25, 40), (11, 36), (30, 31), (8, 39), (19, 23), (18, 50), (9, 49), (44, 51), (41, 52), (26, 29), (47, 54), (22, 56), (46, 57), (48, 58), (55, 59), (53, 60), (45, 61), (24, 62), (32, 63)]\n"
     ]
    }
   ],
   "source": [
    "tlr_addone_profiles = construct_profile(tlrs, profile_type=\"addone\")\n",
    "tlr_blosum_profiles = construct_profile(tlrs, profile_type=\"blosum\")\n",
    "\n",
    "kcn_addone_profiles = construct_profile(kcns, profile_type=\"addone\")\n",
    "kcn_blosum_profiles = construct_profile(kcns, profile_type=\"blosum\")\n",
    "\n",
    "tlr_tree = agglomeration(tlr_addone_profiles, tlr_acc, \"jensen_shannon\", \"average\")\n",
    "kcn_tree = agglomeration(kcn_addone_profiles, kcn_acc, \"jensen_shannon\", \"average\")"
   ]
  },
  {
   "cell_type": "code",
   "execution_count": 53,
   "metadata": {
    "collapsed": false
   },
   "outputs": [],
   "source": [
    "t_tlr = Tree(tlr_tree)\n",
    "t_kcn = Tree(kcn_tree)"
   ]
  },
  {
   "cell_type": "code",
   "execution_count": 54,
   "metadata": {
    "collapsed": false
   },
   "outputs": [
    {
     "name": "stdout",
     "output_type": "stream",
     "text": [
      "(((((((((((((TLR2_HUMAN,TLR2_GORGO):0.000113421572807,(TLR2_PANTR,TLR2_PANPA):0.000226843145614):0.000396975504825,(TLR2_MACMU,TLR2_MACFA):0.000567107864036):0.00374291190264,TLR2_CANLF):0.0143478289601,TLR2_HORSE):0.0161301679614,(TLR2_GIRCA,((TLR2_SHEEP,TLR2_CAPIB):0.00170132359211,((TLR2_CAPHI,TLR2_BUBBU):0.00192816673772,(TLR2_BOSTR,(TLR2_BOVIN,(TLR2_BISBI,TLR2_BOSIN):0.000964083368861):0.00116257112127):0.00251417819723):0.00294896089299):0.00511342257406):0.00549385743285):0.0206104326086,(TLR2_CRIGR,TLR2_MOUSE):0.0144045397465):0.0272311852596,(TLR22_CHICK,TLR21_CHICK):0.0157655986202):0.0432315279089,((TLR10_HUMAN,TLR10_BOVIN):0.0178638977171,((TLR1_HUMAN,TLR1_MOUSE):0.0238752410759,(TLR6_MOUSE,(TLR6_DASNO,(TLR6_HUMAN,TLR6_BOVIN):0.0192249565908):0.0203875277121):0.025576564668):0.0335018970679):0.0484026561955):0.0639376984638,((TLR4_CRIGR,(TLR4_MOUSE,TLR4_RAT):0.0136105887369):0.0212665449013,((TLR4_PIG,(TLR4_BOVIN,TLR4_BOSTR):0.0031758040386):0.019111535018,((TLR4_PAPAN,(TLR4_PONPY,(TLR4_GORGO,(TLR4_PANPA,TLR4_HUMAN):0.000340264718421):0.000850661796054):0.00296786448845):0.00647920734661,(TLR4_HORSE,TLR4_FELCA):0.0189414026588):0.022264654742):0.023710509744):0.0317088910378):0.0724915780992,TLR3_MOUSE):0.0774925891068,TLR13_MOUSE):0.079702394296,(TLR8_HUMAN,TLR7_HUMAN):0.0687334731211):0.085363911234;\n"
     ]
    }
   ],
   "source": [
    "print tlr_tree"
   ]
  },
  {
   "cell_type": "code",
   "execution_count": 55,
   "metadata": {
    "collapsed": false
   },
   "outputs": [
    {
     "name": "stdout",
     "output_type": "stream",
     "text": [
      "((((((((((((((((KCNA2_RAT,KCNA2_MOUSE):0.0,KCNA2_HUMAN):0.000340264718421,KCNA2_RABIT):0.0005293006731,KCNA2_CANLF):0.000850661796054,KCNA2_XENLA):0.00512665509088,KCNA2_ONCMY):0.00839319638773,(KCNA1_HUMAN,(KCNA1_MOUSE,KCNA1_RAT):0.000340264718421):0.000964083368861):0.0119227677129,(KCNA3_HUMAN,(KCNA3_RAT,KCNA3_MOUSE):0.000396975504825):0.0047353506647):0.0167429145059,KCNA1_ONCMY):0.0194736115774,(KCNA6_HUMAN,(KCNA6_MOUSE,KCNA6_RAT):0.000850661796054):0.00439508594628):0.0219902825564,(KCNA7_HUMAN,KCNA7_MOUSE):0.00504725998992):0.0229795442436,(KCA10_CHICK,KCA10_HUMAN):0.0134404563776):0.0249900557455,((KCNA5_MOUSE,KCNA5_RAT):0.00249527460176,(KCNA5_RABIT,(KCNA5_MUSPF,KCNA5_HUMAN):0.00669187279562):0.00805293166931):0.00924385818378):0.0271163975446,(KCNA4_BOVIN,((KCNA4_RAT,KCNA4_MOUSE):0.000737240223246,(KCNA4_HUMAN,KCNA4_MUSPF):0.00119092651448):0.00215500988334):0.00357277954343):0.0299092687492,KCNAS_DROME):0.0338965858475,KCNSK_CAEEL):0.039614256515;\n"
     ]
    }
   ],
   "source": [
    "print kcn_tree"
   ]
  },
  {
   "cell_type": "code",
   "execution_count": null,
   "metadata": {
    "collapsed": false
   },
   "outputs": [],
   "source": [
    "print t_tlr"
   ]
  },
  {
   "cell_type": "code",
   "execution_count": null,
   "metadata": {
    "collapsed": false
   },
   "outputs": [],
   "source": [
    "print t_kcn"
   ]
  },
  {
   "cell_type": "code",
   "execution_count": 13,
   "metadata": {
    "collapsed": false
   },
   "outputs": [],
   "source": [
    "t = Tree( \"((a,b):1,c ):2;\" )"
   ]
  },
  {
   "cell_type": "code",
   "execution_count": 14,
   "metadata": {
    "collapsed": false
   },
   "outputs": [
    {
     "name": "stdout",
     "output_type": "stream",
     "text": [
      "\n",
      "      /-a\n",
      "   /-|\n",
      "--|   \\-b\n",
      "  |\n",
      "   \\-c\n"
     ]
    }
   ],
   "source": [
    "#from ete3 import Tree, TreeStyle\n",
    "# ts = TreeStyle()\n",
    "# t.show(tree_style=ts)\n",
    "print t"
   ]
  },
  {
   "cell_type": "code",
   "execution_count": 292,
   "metadata": {
    "collapsed": false
   },
   "outputs": [
    {
     "name": "stdout",
     "output_type": "stream",
     "text": [
      "20.0\n",
      "[ 0.5    0.525  0.55   0.575  0.6    0.625  0.65   0.675  0.7    0.725\n",
      "  0.75   0.775  0.8    0.825  0.85   0.875  0.9    0.925  0.95   0.975  1.   ]\n",
      "-0.00339132210089\n"
     ]
    },
    {
     "data": {
      "image/png": "[encoded data removed]",
      "text/plain": [
       "<matplotlib.figure.Figure at 0x117547810>"
      ]
     },
     "metadata": {},
     "output_type": "display_data"
    }
   ],
   "source": [
    "epsilon = 0.1\n",
    "e = epsilon/2\n",
    "n = np.ceil(1/e)\n",
    "print n\n",
    "x = np.linspace(0.5, 1, n+1)\n",
    "y = np.sin(1/x)\n",
    "print x\n",
    "\n",
    "xx = np.linspace(0.5,1, n*100)\n",
    "yy = np.array([y[i//100] for i in xrange(len(xx))])\n",
    "y_real = np.sin(1/xx)\n",
    "yyy = np.array([y[i//100 + 1] for i in xrange(len(xx))])\n",
    "plt.plot(xx, yy)\n",
    "plt.plot(xx, y_real)\n",
    "plt.plot(xx, yyy)\n",
    "int_yy = sum([(1/n) * y[i] for i in xrange(0, len(x) -1)])\n",
    "int_yyy = sum([(1/n) * y[i] for i in xrange(1, len(x))])\n",
    "\n",
    "print int_yyy - int_yy"
   ]
  },
  {
   "cell_type": "markdown",
   "metadata": {},
   "source": [
    "Notes: effects of profile estimation techniques vs scoring functions"
   ]
  },
  {
   "cell_type": "code",
   "execution_count": null,
   "metadata": {
    "collapsed": true
   },
   "outputs": [],
   "source": []
  }
 ],
 "metadata": {
  "kernelspec": {
   "display_name": "Python 2",
   "language": "python",
   "name": "python2"
  },
  "language_info": {
   "codemirror_mode": {
    "name": "ipython",
    "version": 2
   },
   "file_extension": ".py",
   "mimetype": "text/x-python",
   "name": "python",
   "nbconvert_exporter": "python",
   "pygments_lexer": "ipython2",
   "version": "2.7.12"
  }
 },
 "nbformat": 4,
 "nbformat_minor": 0
}
